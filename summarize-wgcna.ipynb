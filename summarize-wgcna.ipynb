{
 "cells": [
  {
   "cell_type": "markdown",
   "metadata": {},
   "source": [
    "# Summarize results"
   ]
  },
  {
   "cell_type": "code",
   "execution_count": 1,
   "metadata": {},
   "outputs": [],
   "source": [
    "# Imports\n",
    "\n",
    "import sys, os\n",
    "import pandas as pd\n",
    "import numpy as np\n",
    "\n",
    "# Variables\n",
    "\n",
    "PATH_ = os.getcwd()\n",
    "\n",
    "\n",
    "folders = [\n",
    "    \"gsea_fulluniv\",\n",
    "    \"gsea_reduniv\",\n",
    "    ]\n",
    "\n",
    "reference = \"gsea_fulluniv\""
   ]
  },
  {
   "cell_type": "code",
   "execution_count": 2,
   "metadata": {},
   "outputs": [],
   "source": [
    "FILENAMES = [\n",
    "    \"CSP_I7_C1\",\n",
    "    \"CSP_RTS_CONTROL\",\n",
    "    \"iRBC_I7_C1\",\n",
    "    \"iRBC_RTS_CONTROL\",\n",
    "    \"malaria_CSP_CONTROL\",\n",
    "    \"malaria_CSP_RTS\",\n",
    "    \"malaria_iRBC_CONTROL\",\n",
    "    \"malaria_iRBC_RTS\",\n",
    "    \"protected_CSP_C1\",\n",
    "    \"protected_CSP_I7\",\n",
    "    \"protected_iRBC_C1\",\n",
    "    \"protected_iRBC_I7\"\n",
    "]\n",
    "\n",
    "GENESETS = [\n",
    "    \"btm\",\n",
    "    \"modules\",\n",
    "    \"biocarta\",\n",
    "    \"kegg\",\n",
    "    \"reactome\"\n",
    "]\n"
   ]
  },
  {
   "cell_type": "code",
   "execution_count": 14,
   "metadata": {},
   "outputs": [],
   "source": [
    "def individual_summaries(filename, geneset):\n",
    "    \n",
    "    PATH = PATH_ + \"/sysmalvac_results_wgcna/\" + filename + \"/\" + geneset + \"/\"\n",
    "\n",
    "    ## Read the reference\n",
    "\n",
    "    REF = pd.read_csv(PATH + \"/\" + reference + \"/output.tsv\", delimiter = \"\\t\").sort_values(\"pval\")\n",
    "\n",
    "    R = []\n",
    "\n",
    "    for fold in folders[1:]:\n",
    "        PVALS = {}\n",
    "        D = pd.read_csv(PATH + \"/\" + fold + \"/output.tsv\", delimiter = \"\\t\")\n",
    "        genesets   = np.array(D[\"geneset\"])\n",
    "        pvals      = np.array(D[\"pval\"], dtype = np.float)\n",
    "        directions = np.array(D[\"direction\"])    \n",
    "        if \"fisher_\" in fold:\n",
    "            As = np.array(D[\"A\"])\n",
    "            mask = As >= 3\n",
    "            genesets   = genesets[mask]\n",
    "            pvals      = pvals[mask]\n",
    "            directions = directions[mask]\n",
    "        for g, p, d in zip(genesets, pvals, directions):\n",
    "            PVALS[(g, d)] = p\n",
    "        R += [PVALS]\n",
    "\n",
    "    with open(PATH + \"/summary.tsv\", \"w\") as f:\n",
    "        f.write(\"geneset\\tsize\\tmatched_size\\tdirection\\tes\\tnes\\tpval\\tfdr\\tleading_edge\\t\" + \"\\t\".join(folders[1:]) + \"\\n\")\n",
    "        for r in REF.values:\n",
    "            geneset = r[0]\n",
    "            direction = r[3]\n",
    "            S = \"%s\\t%d\\t%d\\t%s\\t%.3f\\t%.3f\\t%.3E\\t%.3E\\t%s\\t\" % tuple(r)\n",
    "            for d in R:\n",
    "                if (geneset, direction) in d:\n",
    "                    S += \"%.3E\\t\" % d[(geneset, direction)]\n",
    "                else:\n",
    "                    S += \"NA\\t\"\n",
    "            S = S.rstrip(\"\\t\")\n",
    "            f.write(S + \"\\n\")"
   ]
  },
  {
   "cell_type": "code",
   "execution_count": 16,
   "metadata": {},
   "outputs": [],
   "source": [
    "for filename in FILENAMES:\n",
    "    for geneset in GENESETS:\n",
    "        individual_summaries(filename, geneset)\n",
    "        "
   ]
  },
  {
   "cell_type": "code",
   "execution_count": 17,
   "metadata": {},
   "outputs": [],
   "source": [
    "# Now do a macro summary\n",
    "\n",
    "D = None\n",
    "\n",
    "for filename in FILENAMES:\n",
    "    for geneset in GENESETS:\n",
    "        PATH = PATH_ + \"/sysmalvac_results_wgcna/\" + filename + \"/\" + geneset + \"/\"\n",
    "        df = pd.read_csv(PATH + \"/summary.tsv\", delimiter = \"\\t\")\n",
    "        df[\"condition\" ] = [filename]*len(df)\n",
    "        df[\"collection\"] = [geneset]*len(df)\n",
    "        df = df[[\"condition\", \"collection\"]+list(df.columns[:-2])]\n",
    "        if D is None:\n",
    "            D = df.copy()\n",
    "        else:\n",
    "            D= pd.concat([D, df])"
   ]
  },
  {
   "cell_type": "code",
   "execution_count": 18,
   "metadata": {},
   "outputs": [],
   "source": [
    "D.to_csv(PATH_ + \"/sysmalvac_results_wgcna/\" + \"summary.tsv\", sep = \"\\t\", index = False)"
   ]
  },
  {
   "cell_type": "code",
   "execution_count": null,
   "metadata": {
    "collapsed": true
   },
   "outputs": [],
   "source": []
  }
 ],
 "metadata": {
  "kernelspec": {
   "display_name": "Python 3",
   "language": "python",
   "name": "python3"
  },
  "language_info": {
   "codemirror_mode": {
    "name": "ipython",
    "version": 3
   },
   "file_extension": ".py",
   "mimetype": "text/x-python",
   "name": "python",
   "nbconvert_exporter": "python",
   "pygments_lexer": "ipython3",
   "version": "3.7.3"
  }
 },
 "nbformat": 4,
 "nbformat_minor": 2
}
